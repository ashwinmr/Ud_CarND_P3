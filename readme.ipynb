{
 "cells": [
  {
   "cell_type": "markdown",
   "metadata": {},
   "source": [
    "## Project: Build a Traffic Sign Recognition Program\n",
    "[![Udacity - Self-Driving Car NanoDegree](https://s3.amazonaws.com/udacity-sdc/github/shield-carnd.svg)](http://www.udacity.com/drive)\n",
    "\n",
    "Overview\n",
    "---\n",
    "In this project, you will use what you've learned about deep neural networks and convolutional neural networks to classify traffic signs. You will train and validate a model so it can classify traffic sign images using the [German Traffic Sign Dataset](http://benchmark.ini.rub.de/?section=gtsrb&subsection=dataset). After the model is trained, you will then try out your model on images of German traffic signs that you find on the web.\n",
    "\n",
    "We have included an Ipython notebook that contains further instructions \n",
    "and starter code. Be sure to download the [Ipython notebook](https://github.com/udacity/CarND-Traffic-Sign-Classifier-Project/blob/master/Traffic_Sign_Classifier.ipynb). \n",
    "\n",
    "We also want you to create a detailed writeup of the project. Check out the [writeup template](https://github.com/udacity/CarND-Traffic-Sign-Classifier-Project/blob/master/writeup_template.md) for this project and use it as a starting point for creating your own writeup. The writeup can be either a markdown file or a pdf document.\n",
    "\n",
    "To meet specifications, the project will require submitting three files: \n",
    "* the Ipython notebook with the code\n",
    "* the code exported as an html file\n",
    "* a writeup report either as a markdown or pdf file \n",
    "\n",
    "Creating a Great Writeup\n",
    "---\n",
    "A great writeup should include the [rubric points](https://review.udacity.com/#!/rubrics/481/view) as well as your description of how you addressed each point.  You should include a detailed description of the code used in each step (with line-number references and code snippets where necessary), and links to other supporting documents or external references.  You should include images in your writeup to demonstrate how your code works with examples.  \n",
    "\n",
    "All that said, please be concise!  We're not looking for you to write a book here, just a brief description of how you passed each rubric point, and references to the relevant code :). \n",
    "\n",
    "You're not required to use markdown for your writeup.  If you use another method please just submit a pdf of your writeup.\n",
    "\n",
    "The Project\n",
    "---\n",
    "The goals / steps of this project are the following:\n",
    "* Load the data set\n",
    "* Explore, summarize and visualize the data set\n",
    "* Design, train and test a model architecture\n",
    "* Use the model to make predictions on new images\n",
    "* Analyze the softmax probabilities of the new images\n",
    "* Summarize the results with a written report\n",
    "\n",
    "### Dependencies\n",
    "This lab requires:\n",
    "\n",
    "* [CarND Term1 Starter Kit](https://github.com/udacity/CarND-Term1-Starter-Kit)\n",
    "\n",
    "The lab environment can be created with CarND Term1 Starter Kit. Click [here](https://github.com/udacity/CarND-Term1-Starter-Kit/blob/master/README.md) for the details.\n",
    "\n",
    "### Dataset and Repository\n",
    "\n",
    "1. Download the data set. The classroom has a link to the data set in the \"Project Instructions\" content. This is a pickled dataset in which we've already resized the images to 32x32. It contains a training, validation and test set.\n",
    "2. Clone the project, which contains the Ipython notebook and the writeup template.\n",
    "```sh\n",
    "git clone https://github.com/udacity/CarND-Traffic-Sign-Classifier-Project\n",
    "cd CarND-Traffic-Sign-Classifier-Project\n",
    "jupyter notebook Traffic_Sign_Classifier.ipynb\n",
    "```\n",
    "\n",
    "### Requirements for Submission\n",
    "Follow the instructions in the `Traffic_Sign_Classifier.ipynb` notebook and write the project report using the writeup template as a guide, `writeup_template.md`. Submit the project code and writeup document.\n",
    "\n",
    "## How to write a README\n",
    "A well written README file can enhance your project and portfolio.  Develop your abilities to create professional README files by completing [this free course](https://www.udacity.com/course/writing-readmes--ud777).\n",
    "\n"
   ]
  },
  {
   "cell_type": "code",
   "execution_count": null,
   "metadata": {},
   "outputs": [],
   "source": []
  }
 ],
 "metadata": {
  "kernelspec": {
   "display_name": "Python 3",
   "language": "python",
   "name": "python3"
  },
  "language_info": {
   "codemirror_mode": {
    "name": "ipython",
    "version": 3
   },
   "file_extension": ".py",
   "mimetype": "text/x-python",
   "name": "python",
   "nbconvert_exporter": "python",
   "pygments_lexer": "ipython3",
   "version": "3.6.6"
  }
 },
 "nbformat": 4,
 "nbformat_minor": 2
}
